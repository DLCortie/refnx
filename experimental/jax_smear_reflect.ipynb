{
 "cells": [
  {
   "cell_type": "code",
   "execution_count": 1,
   "id": "3597ab8d-b9b0-4a80-9852-293a1ab9f3b5",
   "metadata": {},
   "outputs": [],
   "source": [
    "from jax import config\n",
    "config.update(\"jax_enable_x64\", True)"
   ]
  },
  {
   "cell_type": "code",
   "execution_count": 62,
   "id": "b632211d-77c3-4cce-bd58-ffec8f24f19b",
   "metadata": {},
   "outputs": [],
   "source": [
    "import numpy as np\n",
    "from functools import partial\n",
    "from scipy.optimize._numdiff import approx_derivative\n",
    "import jax.numpy as jnp\n",
    "from jax import jit, grad\n",
    "from refnx.reflect._jax_reflect import abeles_jax, jabeles\n",
    "from refnx.reflect import abeles\n",
    "from refnx.reflect.reflect_model import gauss_legendre, _smeared_kernel_pointwise, available_backends, get_reflect_backend\n",
    "\n",
    "_FWHM = 2 * np.sqrt(2 * np.log(2.0))\n",
    "_INTLIMIT = 3.5\n",
    "\n",
    "q = np.linspace(0.01, 0.5, 1000)\n",
    "w = np.array([[0, 2.07, 0, 0],\n",
    "              [100, 3.47, 0, 3],\n",
    "              [500, -0.5, 0.00001, 3],\n",
    "              [0, 6.36, 0, 3]])"
   ]
  },
  {
   "cell_type": "code",
   "execution_count": 11,
   "id": "d56c9dcf-02ff-4725-a171-4668df562620",
   "metadata": {},
   "outputs": [],
   "source": [
    "np.testing.assert_allclose(jabeles(q, w), abeles(q, w))"
   ]
  },
  {
   "cell_type": "code",
   "execution_count": 51,
   "id": "4fe930c6-3997-41ec-a92c-a1055bab6c66",
   "metadata": {},
   "outputs": [],
   "source": [
    "def jax_smeared_kernel_pointwise(qvals, w, dqvals, quad_order=17, threads=-1):\n",
    "    # get the gauss-legendre weights and abscissae\n",
    "    abscissa, weights = gauss_legendre(quad_order)\n",
    "\n",
    "    # get the normal distribution at that point\n",
    "    prefactor = 1.0 / np.sqrt(2 * np.pi)\n",
    "\n",
    "    def gauss(x):\n",
    "        return np.exp(-0.5 * x * x)\n",
    "\n",
    "    gaussvals = prefactor * gauss(abscissa * _INTLIMIT)\n",
    "\n",
    "    # integration between -3.5 and 3.5 sigma\n",
    "    va = qvals - _INTLIMIT * dqvals / _FWHM\n",
    "    vb = qvals + _INTLIMIT * dqvals / _FWHM\n",
    "\n",
    "    va = va[:, np.newaxis]\n",
    "    vb = vb[:, np.newaxis]\n",
    "\n",
    "    qvals_for_res = (np.atleast_2d(abscissa) * (vb - va) + vb + va) / 2.0\n",
    "    smeared_rvals = jabeles(qvals_for_res, w)\n",
    "\n",
    "    smeared_rvals = np.reshape(smeared_rvals, (qvals.size, abscissa.size))\n",
    "\n",
    "    smeared_rvals *= np.atleast_2d(gaussvals * weights)\n",
    "    return np.sum(smeared_rvals, 1) * _INTLIMIT\n",
    "\n",
    "smeared = jit(jax_smeared_kernel_pointwise)"
   ]
  },
  {
   "cell_type": "code",
   "execution_count": 52,
   "id": "20f1f760-3385-4d5b-a3bb-be7b37294daf",
   "metadata": {},
   "outputs": [],
   "source": [
    "np.testing.assert_allclose(smeared(q, w, 0.05 * q), _smeared_kernel_pointwise(q, w, 0.05 * q))"
   ]
  },
  {
   "cell_type": "code",
   "execution_count": 53,
   "id": "ca304005-5107-4739-879b-06eb8653f75c",
   "metadata": {},
   "outputs": [],
   "source": [
    "data = abeles(q, w)"
   ]
  },
  {
   "cell_type": "code",
   "execution_count": 65,
   "id": "cb67e912-0e25-432e-b9b6-389aa19ddee1",
   "metadata": {},
   "outputs": [],
   "source": [
    "def chi2(q, w):\n",
    "    return np.sum((smeared(q, w, 0.05 * q) - data)**2)\n",
    "\n",
    "def chi2_2(q, w):\n",
    "    w = np.reshape(w, (-1, 4))\n",
    "    return np.sum((smeared(q, w, 0.05 * q) - data)**2)       "
   ]
  },
  {
   "cell_type": "code",
   "execution_count": 69,
   "id": "69f59574-9bce-4b78-aa1c-24ed5625a867",
   "metadata": {},
   "outputs": [
    {
     "data": {
      "text/plain": [
       "Array([[ 0.00000000e+00, -1.23946190e-01,  0.00000000e+00,\n",
       "         0.00000000e+00],\n",
       "       [ 8.33112085e-05,  4.69593792e-03, -2.19750346e-03,\n",
       "        -4.68062868e-07],\n",
       "       [ 1.31681133e-05, -6.29836800e-03,  3.57718214e-02,\n",
       "        -1.04544939e-05],\n",
       "       [ 0.00000000e+00,  1.25548620e-01,  1.04202793e-01,\n",
       "        -2.22486536e-05]], dtype=float64)"
      ]
     },
     "execution_count": 69,
     "metadata": {},
     "output_type": "execute_result"
    }
   ],
   "source": [
    "gsmeared = grad(chi2, argnums=1)\n",
    "gsmeared(q, w)"
   ]
  },
  {
   "cell_type": "code",
   "execution_count": 68,
   "id": "cbf62d18-2f6e-4476-8636-1f0f74e51787",
   "metadata": {},
   "outputs": [
    {
     "data": {
      "text/plain": [
       "array([ 0.00000000e+00, -1.23946207e-01,  0.00000000e+00,  0.00000000e+00,\n",
       "        8.33112085e-05,  4.69593792e-03,  0.00000000e+00, -4.68063359e-07,\n",
       "        1.31681142e-05, -6.29836801e-03,  3.57718149e-02, -1.04544951e-05,\n",
       "        0.00000000e+00,  1.25548788e-01,  0.00000000e+00, -2.22486538e-05])"
      ]
     },
     "execution_count": 68,
     "metadata": {},
     "output_type": "execute_result"
    }
   ],
   "source": [
    "part_chi2 = partial(chi2_2, q)\n",
    "approx_derivative(part_chi2, w.ravel())"
   ]
  },
  {
   "cell_type": "code",
   "execution_count": null,
   "id": "20b1713e-8297-44d1-a679-89b9de6c58f9",
   "metadata": {},
   "outputs": [],
   "source": []
  }
 ],
 "metadata": {
  "kernelspec": {
   "display_name": "Python 3 (ipykernel)",
   "language": "python",
   "name": "python3"
  },
  "language_info": {
   "codemirror_mode": {
    "name": "ipython",
    "version": 3
   },
   "file_extension": ".py",
   "mimetype": "text/x-python",
   "name": "python",
   "nbconvert_exporter": "python",
   "pygments_lexer": "ipython3",
   "version": "3.12.0"
  }
 },
 "nbformat": 4,
 "nbformat_minor": 5
}
